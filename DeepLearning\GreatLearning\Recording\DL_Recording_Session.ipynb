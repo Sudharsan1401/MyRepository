{
  "nbformat": 4,
  "nbformat_minor": 0,
  "metadata": {
    "colab": {
      "provenance": [],
      "authorship_tag": "ABX9TyMhSdHWwLnqT4QkApHmchR7",
      "include_colab_link": true
    },
    "kernelspec": {
      "name": "python3",
      "display_name": "Python 3"
    },
    "language_info": {
      "name": "python"
    }
  },
  "cells": [
    {
      "cell_type": "markdown",
      "metadata": {
        "id": "view-in-github",
        "colab_type": "text"
      },
      "source": [
        "<a href=\"https://colab.research.google.com/github/Sudharsan1401/MyRepository/blob/main/DeepLearning%5CGreatLearning%5CRecording%5CDL_Recording_Session.ipynb\" target=\"_parent\"><img src=\"https://colab.research.google.com/assets/colab-badge.svg\" alt=\"Open In Colab\"/></a>"
      ]
    },
    {
      "cell_type": "code",
      "execution_count": 1,
      "metadata": {
        "id": "JlyqB_OOQfFg"
      },
      "outputs": [],
      "source": [
        "from random import choice\n",
        "from numpy import array,dot,random\n",
        "import numpy as np\n",
        "import matplotlib.pyplot as plt\n",
        "%matplotlib inline"
      ]
    },
    {
      "cell_type": "code",
      "source": [],
      "metadata": {
        "id": "0APAUC-QQ2AF"
      },
      "execution_count": null,
      "outputs": []
    },
    {
      "cell_type": "markdown",
      "source": [
        "Error Back Propogation to adjust weight in output layer and hidden layer\n"
      ],
      "metadata": {
        "id": "dkTD7wntRNVT"
      }
    },
    {
      "cell_type": "code",
      "source": [
        "def sig_act(net):\n",
        "  out=1/(1+np.exp(-net))\n",
        "  return out"
      ],
      "metadata": {
        "id": "XyRgbJooQ6xc"
      },
      "execution_count": 2,
      "outputs": []
    },
    {
      "cell_type": "code",
      "source": [
        "#Mcculloch-Pitts Model for AND gate\n",
        "w=random.rand(2)\n",
        "w[0]=1\n",
        "w[1]=1\n",
        "train_data=[(array([0,0]),0),(array([0,1]),0),(array([1,0]),1),(array([1,1]),1)]\n",
        "train_data"
      ],
      "metadata": {
        "colab": {
          "base_uri": "https://localhost:8080/"
        },
        "id": "RgHCdAqGRfJH",
        "outputId": "0d28484d-bbcb-4413-a018-df10ad83edb9"
      },
      "execution_count": 6,
      "outputs": [
        {
          "output_type": "execute_result",
          "data": {
            "text/plain": [
              "[(array([0, 0]), 0),\n",
              " (array([0, 1]), 0),\n",
              " (array([1, 0]), 1),\n",
              " (array([1, 1]), 1)]"
            ]
          },
          "metadata": {},
          "execution_count": 6
        }
      ]
    },
    {
      "cell_type": "code",
      "source": [
        "w="
      ],
      "metadata": {
        "colab": {
          "base_uri": "https://localhost:8080/"
        },
        "id": "tPfQSwjRSqNq",
        "outputId": "f2109092-040e-4b88-de0c-95b51f1ce8cf"
      },
      "execution_count": 4,
      "outputs": [
        {
          "output_type": "execute_result",
          "data": {
            "text/plain": [
              "array([1., 1.])"
            ]
          },
          "metadata": {},
          "execution_count": 4
        }
      ]
    },
    {
      "cell_type": "code",
      "source": [
        "act_function=lambda net : 0 if net<0.5 else 1"
      ],
      "metadata": {
        "id": "E6SIezMkSrPY"
      },
      "execution_count": 7,
      "outputs": []
    },
    {
      "cell_type": "code",
      "source": [
        "for x,_ in train_data:\n",
        "  net=dot(x,w)\n",
        "  print(\"{} : {}-> {}\".format(x[:2],net,act_function(net)))"
      ],
      "metadata": {
        "colab": {
          "base_uri": "https://localhost:8080/"
        },
        "id": "S-Vnks0KVDHg",
        "outputId": "6d32b9a4-af50-47ab-f165-468850b3fdb9"
      },
      "execution_count": 8,
      "outputs": [
        {
          "output_type": "stream",
          "name": "stdout",
          "text": [
            "[0 0] : 0.0-> 0\n",
            "[0 1] : 1.0-> 1\n",
            "[1 0] : 1.0-> 1\n",
            "[1 1] : 2.0-> 1\n"
          ]
        }
      ]
    },
    {
      "cell_type": "code",
      "source": [
        "#Mcculoch-Pitts Model for OR gate\n",
        "w=random.rand(2)\n",
        "w[0]=1\n",
        "w[1]=1\n",
        "train_data=[(array([0,0]),0),(array([0,1]),1),(array([1,0]),1),(array([1,1]),1)]\n",
        "train_data"
      ],
      "metadata": {
        "colab": {
          "base_uri": "https://localhost:8080/"
        },
        "id": "5HitQXiVVaJp",
        "outputId": "a3ed890e-6de7-4d99-85bb-56efa36c9100"
      },
      "execution_count": 10,
      "outputs": [
        {
          "output_type": "execute_result",
          "data": {
            "text/plain": [
              "[(array([0, 0]), 0),\n",
              " (array([0, 1]), 1),\n",
              " (array([1, 0]), 1),\n",
              " (array([1, 1]), 1)]"
            ]
          },
          "metadata": {},
          "execution_count": 10
        }
      ]
    },
    {
      "cell_type": "code",
      "source": [
        "act_function= lambda net:0 if net<0.5 else 1\n",
        "train_data=[(array([0,0,1]),0),(array([0,1,1]),1),\n",
        "            (array([1,0,1]),1),(array([1,1,1]),1)]\n",
        "random.seed(10)\n",
        "w=random.rand(3)\n",
        "errors=[]\n",
        "eta=0.5"
      ],
      "metadata": {
        "id": "ys-PoIbOVe4s"
      },
      "execution_count": 32,
      "outputs": []
    },
    {
      "cell_type": "code",
      "source": [
        "train_data"
      ],
      "metadata": {
        "colab": {
          "base_uri": "https://localhost:8080/"
        },
        "id": "oQId4w3zWdHm",
        "outputId": "f8a4de86-430f-4b8d-c014-1d0e2f6ed2b2"
      },
      "execution_count": 33,
      "outputs": [
        {
          "output_type": "execute_result",
          "data": {
            "text/plain": [
              "[(array([0, 0, 1]), 0),\n",
              " (array([0, 1, 1]), 1),\n",
              " (array([1, 0, 1]), 1),\n",
              " (array([1, 1, 1]), 1)]"
            ]
          },
          "metadata": {},
          "execution_count": 33
        }
      ]
    },
    {
      "cell_type": "code",
      "source": [
        "w"
      ],
      "metadata": {
        "colab": {
          "base_uri": "https://localhost:8080/"
        },
        "id": "KvCD-8SsV4Yr",
        "outputId": "dc4e605a-da0f-4e1a-d3b2-aef5a7e7ef3d"
      },
      "execution_count": 34,
      "outputs": [
        {
          "output_type": "execute_result",
          "data": {
            "text/plain": [
              "array([0.77132064, 0.02075195, 0.63364823])"
            ]
          },
          "metadata": {},
          "execution_count": 34
        }
      ]
    },
    {
      "cell_type": "code",
      "source": [
        "x,expected=choice(train_data)\n",
        "print(x,expected)"
      ],
      "metadata": {
        "colab": {
          "base_uri": "https://localhost:8080/"
        },
        "id": "GoHE_Q-cW0m7",
        "outputId": "bf5debcc-8332-4195-b5e3-ccb2f86037f1"
      },
      "execution_count": 35,
      "outputs": [
        {
          "output_type": "stream",
          "name": "stdout",
          "text": [
            "[0 0 1] 0\n"
          ]
        }
      ]
    },
    {
      "cell_type": "code",
      "source": [
        "dot(w,x)"
      ],
      "metadata": {
        "colab": {
          "base_uri": "https://localhost:8080/"
        },
        "id": "Ld4o8-vdW-xq",
        "outputId": "98b9858d-1498-46c7-eb91-c311724514a6"
      },
      "execution_count": 36,
      "outputs": [
        {
          "output_type": "execute_result",
          "data": {
            "text/plain": [
              "0.6336482349262754"
            ]
          },
          "metadata": {},
          "execution_count": 36
        }
      ]
    },
    {
      "cell_type": "code",
      "source": [
        "n=5000\n",
        "for i in range(n):\n",
        "  x,expected=choice(train_data)\n",
        "  net=dot(w,x)\n",
        "  y_pred=act_function(net)\n",
        "  error=expected-y_pred\n",
        "  errors.append(error)\n",
        "  w+=eta*error*x"
      ],
      "metadata": {
        "id": "f6ec4hIoXO1T"
      },
      "execution_count": 38,
      "outputs": []
    },
    {
      "cell_type": "code",
      "source": [
        "w"
      ],
      "metadata": {
        "colab": {
          "base_uri": "https://localhost:8080/"
        },
        "id": "B1rRuQpMYtnn",
        "outputId": "263121fe-6e4a-4bfa-e6d4-126181df5d12"
      },
      "execution_count": 39,
      "outputs": [
        {
          "output_type": "execute_result",
          "data": {
            "text/plain": [
              "array([0.77132064, 0.52075195, 0.13364823])"
            ]
          },
          "metadata": {},
          "execution_count": 39
        }
      ]
    },
    {
      "cell_type": "code",
      "source": [
        "#Testing\n",
        "for x,_ in train_data:\n",
        "  net=dot(x,w)\n",
        "  print(\"{} : {}-> {}\".format(x[:3],net,act_function(net)))"
      ],
      "metadata": {
        "colab": {
          "base_uri": "https://localhost:8080/"
        },
        "id": "w94SVzGAZeH9",
        "outputId": "1d38dada-b2fa-4b48-f4ba-10b81459d505"
      },
      "execution_count": 40,
      "outputs": [
        {
          "output_type": "stream",
          "name": "stdout",
          "text": [
            "[0 0 1] : 0.13364823492627542-> 0\n",
            "[0 1 1] : 0.6544001842856769-> 1\n",
            "[1 0 1] : 0.9049688781930214-> 1\n",
            "[1 1 1] : 1.4257208275524227-> 1\n"
          ]
        }
      ]
    },
    {
      "cell_type": "code",
      "source": [],
      "metadata": {
        "id": "VUt0UPu1ZmuJ"
      },
      "execution_count": null,
      "outputs": []
    }
  ]
}